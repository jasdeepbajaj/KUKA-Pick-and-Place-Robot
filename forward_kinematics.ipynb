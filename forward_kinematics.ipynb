{
  "cells": [
    {
      "cell_type": "code",
      "execution_count": 1,
      "metadata": {
        "id": "E1fqB8t223wA"
      },
      "outputs": [],
      "source": [
        "import numpy as np\n",
        "from numpy import array\n",
        "from sympy import symbols, cos, sin, pi, simplify, sqrt, atan2\n",
        "from sympy.matrices import Matrix"
      ]
    },
    {
      "cell_type": "code",
      "execution_count": 2,
      "metadata": {
        "id": "JrmyedBD3jax"
      },
      "outputs": [],
      "source": [
        "q1, q2, q3, q4, q5, q6, q7 = symbols('q1:8') #theta - joint angles\n",
        "d1, d2, d3, d4, d5, d6, d7 = symbols('d1:8') #link offsets\n",
        "a0, a1, a2, a3, a4, a5, a6 = symbols('a1:8') #link lengths\n",
        "alpha0, alpha1, alpha2, alpha3, alpha4, alpha5, alpha6 = symbols('alpha0:7') #Twist"
      ]
    },
    {
      "cell_type": "code",
      "execution_count": 3,
      "metadata": {
        "id": "29hxuhpa4NJJ"
      },
      "outputs": [],
      "source": [
        "#DH Parameters\n",
        "# KUKA KR210\n",
        "\n",
        "DH_Params = {alpha0:      0.0,  a0:       0.0,  d1:     0.75, q1:         q1,\n",
        "             alpha1:    -pi/2,  a1:      0.35,  d2:      0.0, q2:    q2-pi/2,\n",
        "             alpha2:      0.0,  a2:      1.25,  d3:      0.0, q3:         q3,\n",
        "             alpha3:    -pi/2,  a3:    -0.054,  d4:     1.50, q4:         q4,\n",
        "             alpha4:     pi/2,  a4:       0.0,  d5:      0.0, q5:         q5,\n",
        "             alpha5:    -pi/2,  a5:       0.0,  d6:      0.0, q6:         q6,\n",
        "             alpha6:      0.0,  a6:       0.0,  d7:    0.303, q7:        0.0,}"
      ]
    },
    {
      "cell_type": "code",
      "execution_count": 4,
      "metadata": {
        "id": "-_G_QHso6ajS"
      },
      "outputs": [],
      "source": [
        "def TF_Matrix(alpha, a, d, q):\n",
        "    TF =    Matrix([[            cos(q),           -sin(q),           0,             a],\n",
        "                    [ sin(q)*cos(alpha), cos(q)*cos(alpha), -sin(alpha), -sin(alpha)*d],\n",
        "                    [sin(q)* sin(alpha), cos(q)*sin(alpha),  cos(alpha),  cos(alpha)*d],\n",
        "                    [                 0,                 0,           0,             1]])\n",
        "    return TF"
      ]
    },
    {
      "cell_type": "code",
      "execution_count": 5,
      "metadata": {
        "id": "tZd7X2926Do4"
      },
      "outputs": [],
      "source": [
        "#Homogenous Transformations\n",
        "\n",
        "T0_1 = TF_Matrix(alpha0, a0, d1, q1).subs(DH_Params)\n",
        "T1_2 = TF_Matrix(alpha1, a1, d2, q2).subs(DH_Params)\n",
        "T2_3 = TF_Matrix(alpha2, a2, d3, q3).subs(DH_Params)\n",
        "T3_4 = TF_Matrix(alpha3, a3, d4, q4).subs(DH_Params)\n",
        "T4_5 = TF_Matrix(alpha4, a4, d5, q5).subs(DH_Params)\n",
        "T5_6 = TF_Matrix(alpha5, a5, d6, q6).subs(DH_Params)\n",
        "T6_G = TF_Matrix(alpha6, a6, d7, q7).subs(DH_Params)"
      ]
    },
    {
      "cell_type": "code",
      "execution_count": 6,
      "metadata": {
        "id": "At1NTVB48_sd"
      },
      "outputs": [],
      "source": [
        "# Correction Needed to account of orientaion difference between definition of gripper link in URDF versus DH convention\n",
        "R_z = Matrix([[ cos(np.pi), -sin(np.pi),  0.0,  0.0],\n",
        "              [ sin(np.pi),  cos(np.pi),  0.0,  0.0],\n",
        "              [        0.0,         0.0,  1.0,  0.0],\n",
        "              [        0.0,         0.0,  0.0,  1.0]])\n",
        "R_y = Matrix([[  cos(-np.pi/2),   0.0,    sin(-np.pi/2),  0.0],\n",
        "              [         0.0,   1.0,           0.0,  0.0],\n",
        "              [ -sin(-np.pi/2),   0.0,   cos(-np.pi/2),    0.0],\n",
        "              [         0.0,   0.0,        0.0,     1.0]])"
      ]
    },
    {
      "cell_type": "code",
      "execution_count": 7,
      "metadata": {
        "colab": {
          "base_uri": "https://localhost:8080/",
          "height": 98
        },
        "id": "v-VgwCHq7Qk-",
        "outputId": "ba7fb66b-c619-4cd3-860b-e00e3d04fb06"
      },
      "outputs": [
        {
          "data": {
            "text/latex": [
              "$\\displaystyle \\left[\\begin{matrix}\\cos{\\left(q_{1} \\right)} & - \\sin{\\left(q_{1} \\right)} & 0 & 0\\\\\\sin{\\left(q_{1} \\right)} & \\cos{\\left(q_{1} \\right)} & 0 & 0\\\\0 & 0 & 1 & 0.75\\\\0 & 0 & 0 & 1\\end{matrix}\\right]$"
            ],
            "text/plain": [
              "Matrix([\n",
              "[cos(q1), -sin(q1), 0,    0],\n",
              "[sin(q1),  cos(q1), 0,    0],\n",
              "[      0,        0, 1, 0.75],\n",
              "[      0,        0, 0,    1]])"
            ]
          },
          "execution_count": 7,
          "metadata": {},
          "output_type": "execute_result"
        }
      ],
      "source": [
        "T0_1"
      ]
    },
    {
      "cell_type": "code",
      "execution_count": 8,
      "metadata": {
        "colab": {
          "base_uri": "https://localhost:8080/",
          "height": 98
        },
        "id": "YqROCF0s7qE4",
        "outputId": "a695c75d-b7c5-4f17-a846-32488c2d196a"
      },
      "outputs": [
        {
          "data": {
            "text/latex": [
              "$\\displaystyle \\left[\\begin{matrix}\\sin{\\left(q_{2} \\right)} & \\cos{\\left(q_{2} \\right)} & 0 & 0.35\\\\0 & 0 & 1 & 0\\\\\\cos{\\left(q_{2} \\right)} & - \\sin{\\left(q_{2} \\right)} & 0 & 0\\\\0 & 0 & 0 & 1\\end{matrix}\\right]$"
            ],
            "text/plain": [
              "Matrix([\n",
              "[sin(q2),  cos(q2), 0, 0.35],\n",
              "[      0,        0, 1,    0],\n",
              "[cos(q2), -sin(q2), 0,    0],\n",
              "[      0,        0, 0,    1]])"
            ]
          },
          "execution_count": 8,
          "metadata": {},
          "output_type": "execute_result"
        }
      ],
      "source": [
        "T1_2"
      ]
    },
    {
      "cell_type": "code",
      "execution_count": 9,
      "metadata": {
        "colab": {
          "base_uri": "https://localhost:8080/",
          "height": 98
        },
        "id": "LQYOM7Pq7yaZ",
        "outputId": "990a8d6f-9792-4f29-c1e5-e1fe8f8ac1e9"
      },
      "outputs": [
        {
          "data": {
            "text/latex": [
              "$\\displaystyle \\left[\\begin{matrix}\\cos{\\left(q_{3} \\right)} & - \\sin{\\left(q_{3} \\right)} & 0 & 1.25\\\\\\sin{\\left(q_{3} \\right)} & \\cos{\\left(q_{3} \\right)} & 0 & 0\\\\0 & 0 & 1 & 0\\\\0 & 0 & 0 & 1\\end{matrix}\\right]$"
            ],
            "text/plain": [
              "Matrix([\n",
              "[cos(q3), -sin(q3), 0, 1.25],\n",
              "[sin(q3),  cos(q3), 0,    0],\n",
              "[      0,        0, 1,    0],\n",
              "[      0,        0, 0,    1]])"
            ]
          },
          "execution_count": 9,
          "metadata": {},
          "output_type": "execute_result"
        }
      ],
      "source": [
        "T2_3"
      ]
    },
    {
      "cell_type": "code",
      "execution_count": 10,
      "metadata": {
        "colab": {
          "base_uri": "https://localhost:8080/",
          "height": 98
        },
        "id": "M8KWaAn-704J",
        "outputId": "f5451631-8fa1-405e-c007-048c4ad4a738"
      },
      "outputs": [
        {
          "data": {
            "text/latex": [
              "$\\displaystyle \\left[\\begin{matrix}\\cos{\\left(q_{4} \\right)} & - \\sin{\\left(q_{4} \\right)} & 0 & -0.054\\\\0 & 0 & 1 & 1.5\\\\- \\sin{\\left(q_{4} \\right)} & - \\cos{\\left(q_{4} \\right)} & 0 & 0\\\\0 & 0 & 0 & 1\\end{matrix}\\right]$"
            ],
            "text/plain": [
              "Matrix([\n",
              "[ cos(q4), -sin(q4), 0, -0.054],\n",
              "[       0,        0, 1,    1.5],\n",
              "[-sin(q4), -cos(q4), 0,      0],\n",
              "[       0,        0, 0,      1]])"
            ]
          },
          "execution_count": 10,
          "metadata": {},
          "output_type": "execute_result"
        }
      ],
      "source": [
        "T3_4"
      ]
    },
    {
      "cell_type": "code",
      "execution_count": 11,
      "metadata": {
        "colab": {
          "base_uri": "https://localhost:8080/",
          "height": 98
        },
        "id": "ptGsP39q72SZ",
        "outputId": "19e76b94-4905-4f55-c194-1fd4a79940f3"
      },
      "outputs": [
        {
          "data": {
            "text/latex": [
              "$\\displaystyle \\left[\\begin{matrix}\\cos{\\left(q_{5} \\right)} & - \\sin{\\left(q_{5} \\right)} & 0 & 0\\\\0 & 0 & -1 & 0\\\\\\sin{\\left(q_{5} \\right)} & \\cos{\\left(q_{5} \\right)} & 0 & 0\\\\0 & 0 & 0 & 1\\end{matrix}\\right]$"
            ],
            "text/plain": [
              "Matrix([\n",
              "[cos(q5), -sin(q5),  0, 0],\n",
              "[      0,        0, -1, 0],\n",
              "[sin(q5),  cos(q5),  0, 0],\n",
              "[      0,        0,  0, 1]])"
            ]
          },
          "execution_count": 11,
          "metadata": {},
          "output_type": "execute_result"
        }
      ],
      "source": [
        "T4_5"
      ]
    },
    {
      "cell_type": "code",
      "execution_count": 12,
      "metadata": {
        "colab": {
          "base_uri": "https://localhost:8080/",
          "height": 98
        },
        "id": "uhXphjAD735r",
        "outputId": "531c1587-8dda-44a1-b2fa-6cce5ab9cf08"
      },
      "outputs": [
        {
          "data": {
            "text/latex": [
              "$\\displaystyle \\left[\\begin{matrix}\\cos{\\left(q_{6} \\right)} & - \\sin{\\left(q_{6} \\right)} & 0 & 0\\\\0 & 0 & 1 & 0\\\\- \\sin{\\left(q_{6} \\right)} & - \\cos{\\left(q_{6} \\right)} & 0 & 0\\\\0 & 0 & 0 & 1\\end{matrix}\\right]$"
            ],
            "text/plain": [
              "Matrix([\n",
              "[ cos(q6), -sin(q6), 0, 0],\n",
              "[       0,        0, 1, 0],\n",
              "[-sin(q6), -cos(q6), 0, 0],\n",
              "[       0,        0, 0, 1]])"
            ]
          },
          "execution_count": 12,
          "metadata": {},
          "output_type": "execute_result"
        }
      ],
      "source": [
        "T5_6"
      ]
    },
    {
      "cell_type": "code",
      "execution_count": 13,
      "metadata": {
        "colab": {
          "base_uri": "https://localhost:8080/",
          "height": 98
        },
        "id": "F9HZxZj-75RS",
        "outputId": "1011d9f8-b712-4bba-dd46-1615a1cf66ef"
      },
      "outputs": [
        {
          "data": {
            "text/latex": [
              "$\\displaystyle \\left[\\begin{matrix}1 & 0 & 0 & 0\\\\0 & 1 & 0 & 0\\\\0 & 0 & 1 & 0.303\\\\0 & 0 & 0 & 1\\end{matrix}\\right]$"
            ],
            "text/plain": [
              "Matrix([\n",
              "[1, 0, 0,     0],\n",
              "[0, 1, 0,     0],\n",
              "[0, 0, 1, 0.303],\n",
              "[0, 0, 0,     1]])"
            ]
          },
          "execution_count": 13,
          "metadata": {},
          "output_type": "execute_result"
        }
      ],
      "source": [
        "T6_G"
      ]
    },
    {
      "cell_type": "code",
      "execution_count": 14,
      "metadata": {
        "colab": {
          "base_uri": "https://localhost:8080/",
          "height": 98
        },
        "id": "1S5FpZcD-ytb",
        "outputId": "19697070-62db-45e9-e449-5355b92d303d"
      },
      "outputs": [
        {
          "data": {
            "text/latex": [
              "$\\displaystyle \\left[\\begin{matrix}-1.0 & -1.22464679914735 \\cdot 10^{-16} & 0 & 0\\\\1.22464679914735 \\cdot 10^{-16} & -1.0 & 0 & 0\\\\0 & 0 & 1.0 & 0\\\\0 & 0 & 0 & 1.0\\end{matrix}\\right]$"
            ],
            "text/plain": [
              "Matrix([\n",
              "[                -1.0, -1.22464679914735e-16,   0,   0],\n",
              "[1.22464679914735e-16,                  -1.0,   0,   0],\n",
              "[                   0,                     0, 1.0,   0],\n",
              "[                   0,                     0,   0, 1.0]])"
            ]
          },
          "execution_count": 14,
          "metadata": {},
          "output_type": "execute_result"
        }
      ],
      "source": [
        "R_z"
      ]
    },
    {
      "cell_type": "code",
      "execution_count": 15,
      "metadata": {
        "colab": {
          "base_uri": "https://localhost:8080/",
          "height": 98
        },
        "id": "ZHbQNXX6-1Gj",
        "outputId": "94f63ade-42dc-48a9-effa-215972675940"
      },
      "outputs": [
        {
          "data": {
            "text/latex": [
              "$\\displaystyle \\left[\\begin{matrix}6.12323399573677 \\cdot 10^{-17} & 0 & -1.0 & 0\\\\0 & 1.0 & 0 & 0\\\\1.0 & 0 & 6.12323399573677 \\cdot 10^{-17} & 0\\\\0 & 0 & 0 & 1.0\\end{matrix}\\right]$"
            ],
            "text/plain": [
              "Matrix([\n",
              "[6.12323399573677e-17,   0,                 -1.0,   0],\n",
              "[                   0, 1.0,                    0,   0],\n",
              "[                 1.0,   0, 6.12323399573677e-17,   0],\n",
              "[                   0,   0,                    0, 1.0]])"
            ]
          },
          "execution_count": 15,
          "metadata": {},
          "output_type": "execute_result"
        }
      ],
      "source": [
        "R_y"
      ]
    },
    {
      "cell_type": "code",
      "execution_count": 16,
      "metadata": {
        "colab": {
          "base_uri": "https://localhost:8080/",
          "height": 98
        },
        "id": "uSNzeiX5_dRE",
        "outputId": "cff553c9-de81-48a9-e172-3914ba9f89ed"
      },
      "outputs": [
        {
          "data": {
            "text/latex": [
              "$\\displaystyle \\left[\\begin{matrix}-6.12323399573677 \\cdot 10^{-17} & -1.22464679914735 \\cdot 10^{-16} & 1.0 & 0\\\\7.49879891330929 \\cdot 10^{-33} & -1.0 & -1.22464679914735 \\cdot 10^{-16} & 0\\\\1.0 & 0 & 6.12323399573677 \\cdot 10^{-17} & 0\\\\0 & 0 & 0 & 1.0\\end{matrix}\\right]$"
            ],
            "text/plain": [
              "Matrix([\n",
              "[-6.12323399573677e-17, -1.22464679914735e-16,                   1.0,   0],\n",
              "[ 7.49879891330929e-33,                  -1.0, -1.22464679914735e-16,   0],\n",
              "[                  1.0,                     0,  6.12323399573677e-17,   0],\n",
              "[                    0,                     0,                     0, 1.0]])"
            ]
          },
          "execution_count": 16,
          "metadata": {},
          "output_type": "execute_result"
        }
      ],
      "source": [
        "R_corr = simplify(R_z * R_y)\n",
        "R_corr"
      ]
    },
    {
      "cell_type": "code",
      "execution_count": 17,
      "metadata": {
        "id": "NAG02mkA76kS"
      },
      "outputs": [],
      "source": [
        "T0_G = simplify(T0_1 * T1_2 * T2_3 * T3_4 * T4_5 * T5_6 * T6_G)"
      ]
    },
    {
      "cell_type": "code",
      "execution_count": 18,
      "metadata": {
        "colab": {
          "base_uri": "https://localhost:8080/",
          "height": 118
        },
        "id": "3XLqZ8BF8E5M",
        "outputId": "c516c3ee-bfdd-46c1-c785-63651ebcd551"
      },
      "outputs": [
        {
          "data": {
            "text/latex": [
              "$\\displaystyle \\left[\\begin{matrix}\\left(\\left(\\sin{\\left(q_{1} \\right)} \\sin{\\left(q_{4} \\right)} + \\sin{\\left(q_{2} + q_{3} \\right)} \\cos{\\left(q_{1} \\right)} \\cos{\\left(q_{4} \\right)}\\right) \\cos{\\left(q_{5} \\right)} + \\sin{\\left(q_{5} \\right)} \\cos{\\left(q_{1} \\right)} \\cos{\\left(q_{2} + q_{3} \\right)}\\right) \\cos{\\left(q_{6} \\right)} - \\left(- \\sin{\\left(q_{1} \\right)} \\cos{\\left(q_{4} \\right)} + \\sin{\\left(q_{4} \\right)} \\sin{\\left(q_{2} + q_{3} \\right)} \\cos{\\left(q_{1} \\right)}\\right) \\sin{\\left(q_{6} \\right)} & - \\left(\\left(\\sin{\\left(q_{1} \\right)} \\sin{\\left(q_{4} \\right)} + \\sin{\\left(q_{2} + q_{3} \\right)} \\cos{\\left(q_{1} \\right)} \\cos{\\left(q_{4} \\right)}\\right) \\cos{\\left(q_{5} \\right)} + \\sin{\\left(q_{5} \\right)} \\cos{\\left(q_{1} \\right)} \\cos{\\left(q_{2} + q_{3} \\right)}\\right) \\sin{\\left(q_{6} \\right)} + \\left(\\sin{\\left(q_{1} \\right)} \\cos{\\left(q_{4} \\right)} - \\sin{\\left(q_{4} \\right)} \\sin{\\left(q_{2} + q_{3} \\right)} \\cos{\\left(q_{1} \\right)}\\right) \\cos{\\left(q_{6} \\right)} & - \\left(\\sin{\\left(q_{1} \\right)} \\sin{\\left(q_{4} \\right)} + \\sin{\\left(q_{2} + q_{3} \\right)} \\cos{\\left(q_{1} \\right)} \\cos{\\left(q_{4} \\right)}\\right) \\sin{\\left(q_{5} \\right)} + \\cos{\\left(q_{1} \\right)} \\cos{\\left(q_{5} \\right)} \\cos{\\left(q_{2} + q_{3} \\right)} & - 0.303 \\sin{\\left(q_{1} \\right)} \\sin{\\left(q_{4} \\right)} \\sin{\\left(q_{5} \\right)} + 1.25 \\sin{\\left(q_{2} \\right)} \\cos{\\left(q_{1} \\right)} - 0.303 \\sin{\\left(q_{5} \\right)} \\sin{\\left(q_{2} + q_{3} \\right)} \\cos{\\left(q_{1} \\right)} \\cos{\\left(q_{4} \\right)} - 0.054 \\sin{\\left(q_{2} + q_{3} \\right)} \\cos{\\left(q_{1} \\right)} + 0.303 \\cos{\\left(q_{1} \\right)} \\cos{\\left(q_{5} \\right)} \\cos{\\left(q_{2} + q_{3} \\right)} + 1.5 \\cos{\\left(q_{1} \\right)} \\cos{\\left(q_{2} + q_{3} \\right)} + 0.35 \\cos{\\left(q_{1} \\right)}\\\\\\left(\\left(\\sin{\\left(q_{1} \\right)} \\sin{\\left(q_{2} + q_{3} \\right)} \\cos{\\left(q_{4} \\right)} - \\sin{\\left(q_{4} \\right)} \\cos{\\left(q_{1} \\right)}\\right) \\cos{\\left(q_{5} \\right)} + \\sin{\\left(q_{1} \\right)} \\sin{\\left(q_{5} \\right)} \\cos{\\left(q_{2} + q_{3} \\right)}\\right) \\cos{\\left(q_{6} \\right)} - \\left(\\sin{\\left(q_{1} \\right)} \\sin{\\left(q_{4} \\right)} \\sin{\\left(q_{2} + q_{3} \\right)} + \\cos{\\left(q_{1} \\right)} \\cos{\\left(q_{4} \\right)}\\right) \\sin{\\left(q_{6} \\right)} & - \\left(\\left(\\sin{\\left(q_{1} \\right)} \\sin{\\left(q_{2} + q_{3} \\right)} \\cos{\\left(q_{4} \\right)} - \\sin{\\left(q_{4} \\right)} \\cos{\\left(q_{1} \\right)}\\right) \\cos{\\left(q_{5} \\right)} + \\sin{\\left(q_{1} \\right)} \\sin{\\left(q_{5} \\right)} \\cos{\\left(q_{2} + q_{3} \\right)}\\right) \\sin{\\left(q_{6} \\right)} - \\left(\\sin{\\left(q_{1} \\right)} \\sin{\\left(q_{4} \\right)} \\sin{\\left(q_{2} + q_{3} \\right)} + \\cos{\\left(q_{1} \\right)} \\cos{\\left(q_{4} \\right)}\\right) \\cos{\\left(q_{6} \\right)} & - \\left(\\sin{\\left(q_{1} \\right)} \\sin{\\left(q_{2} + q_{3} \\right)} \\cos{\\left(q_{4} \\right)} - \\sin{\\left(q_{4} \\right)} \\cos{\\left(q_{1} \\right)}\\right) \\sin{\\left(q_{5} \\right)} + \\sin{\\left(q_{1} \\right)} \\cos{\\left(q_{5} \\right)} \\cos{\\left(q_{2} + q_{3} \\right)} & 1.25 \\sin{\\left(q_{1} \\right)} \\sin{\\left(q_{2} \\right)} - 0.303 \\sin{\\left(q_{1} \\right)} \\sin{\\left(q_{5} \\right)} \\sin{\\left(q_{2} + q_{3} \\right)} \\cos{\\left(q_{4} \\right)} - 0.054 \\sin{\\left(q_{1} \\right)} \\sin{\\left(q_{2} + q_{3} \\right)} + 0.303 \\sin{\\left(q_{1} \\right)} \\cos{\\left(q_{5} \\right)} \\cos{\\left(q_{2} + q_{3} \\right)} + 1.5 \\sin{\\left(q_{1} \\right)} \\cos{\\left(q_{2} + q_{3} \\right)} + 0.35 \\sin{\\left(q_{1} \\right)} + 0.303 \\sin{\\left(q_{4} \\right)} \\sin{\\left(q_{5} \\right)} \\cos{\\left(q_{1} \\right)}\\\\- \\left(\\sin{\\left(q_{5} \\right)} \\sin{\\left(q_{2} + q_{3} \\right)} - \\cos{\\left(q_{4} \\right)} \\cos{\\left(q_{5} \\right)} \\cos{\\left(q_{2} + q_{3} \\right)}\\right) \\cos{\\left(q_{6} \\right)} - \\sin{\\left(q_{4} \\right)} \\sin{\\left(q_{6} \\right)} \\cos{\\left(q_{2} + q_{3} \\right)} & \\left(\\sin{\\left(q_{5} \\right)} \\sin{\\left(q_{2} + q_{3} \\right)} - \\cos{\\left(q_{4} \\right)} \\cos{\\left(q_{5} \\right)} \\cos{\\left(q_{2} + q_{3} \\right)}\\right) \\sin{\\left(q_{6} \\right)} - \\sin{\\left(q_{4} \\right)} \\cos{\\left(q_{6} \\right)} \\cos{\\left(q_{2} + q_{3} \\right)} & - \\sin{\\left(q_{5} \\right)} \\cos{\\left(q_{4} \\right)} \\cos{\\left(q_{2} + q_{3} \\right)} - \\sin{\\left(q_{2} + q_{3} \\right)} \\cos{\\left(q_{5} \\right)} & - 0.303 \\sin{\\left(q_{5} \\right)} \\cos{\\left(q_{4} \\right)} \\cos{\\left(q_{2} + q_{3} \\right)} - 0.303 \\sin{\\left(q_{2} + q_{3} \\right)} \\cos{\\left(q_{5} \\right)} - 1.5 \\sin{\\left(q_{2} + q_{3} \\right)} + 1.25 \\cos{\\left(q_{2} \\right)} - 0.054 \\cos{\\left(q_{2} + q_{3} \\right)} + 0.75\\\\0 & 0 & 0 & 1\\end{matrix}\\right]$"
            ],
            "text/plain": [
              "Matrix([\n",
              "[((sin(q1)*sin(q4) + sin(q2 + q3)*cos(q1)*cos(q4))*cos(q5) + sin(q5)*cos(q1)*cos(q2 + q3))*cos(q6) - (-sin(q1)*cos(q4) + sin(q4)*sin(q2 + q3)*cos(q1))*sin(q6), -((sin(q1)*sin(q4) + sin(q2 + q3)*cos(q1)*cos(q4))*cos(q5) + sin(q5)*cos(q1)*cos(q2 + q3))*sin(q6) + (sin(q1)*cos(q4) - sin(q4)*sin(q2 + q3)*cos(q1))*cos(q6), -(sin(q1)*sin(q4) + sin(q2 + q3)*cos(q1)*cos(q4))*sin(q5) + cos(q1)*cos(q5)*cos(q2 + q3), -0.303*sin(q1)*sin(q4)*sin(q5) + 1.25*sin(q2)*cos(q1) - 0.303*sin(q5)*sin(q2 + q3)*cos(q1)*cos(q4) - 0.054*sin(q2 + q3)*cos(q1) + 0.303*cos(q1)*cos(q5)*cos(q2 + q3) + 1.5*cos(q1)*cos(q2 + q3) + 0.35*cos(q1)],\n",
              "[ ((sin(q1)*sin(q2 + q3)*cos(q4) - sin(q4)*cos(q1))*cos(q5) + sin(q1)*sin(q5)*cos(q2 + q3))*cos(q6) - (sin(q1)*sin(q4)*sin(q2 + q3) + cos(q1)*cos(q4))*sin(q6), -((sin(q1)*sin(q2 + q3)*cos(q4) - sin(q4)*cos(q1))*cos(q5) + sin(q1)*sin(q5)*cos(q2 + q3))*sin(q6) - (sin(q1)*sin(q4)*sin(q2 + q3) + cos(q1)*cos(q4))*cos(q6), -(sin(q1)*sin(q2 + q3)*cos(q4) - sin(q4)*cos(q1))*sin(q5) + sin(q1)*cos(q5)*cos(q2 + q3),  1.25*sin(q1)*sin(q2) - 0.303*sin(q1)*sin(q5)*sin(q2 + q3)*cos(q4) - 0.054*sin(q1)*sin(q2 + q3) + 0.303*sin(q1)*cos(q5)*cos(q2 + q3) + 1.5*sin(q1)*cos(q2 + q3) + 0.35*sin(q1) + 0.303*sin(q4)*sin(q5)*cos(q1)],\n",
              "[                                                                -(sin(q5)*sin(q2 + q3) - cos(q4)*cos(q5)*cos(q2 + q3))*cos(q6) - sin(q4)*sin(q6)*cos(q2 + q3),                                                                  (sin(q5)*sin(q2 + q3) - cos(q4)*cos(q5)*cos(q2 + q3))*sin(q6) - sin(q4)*cos(q6)*cos(q2 + q3),                                     -sin(q5)*cos(q4)*cos(q2 + q3) - sin(q2 + q3)*cos(q5),                                                                                 -0.303*sin(q5)*cos(q4)*cos(q2 + q3) - 0.303*sin(q2 + q3)*cos(q5) - 1.5*sin(q2 + q3) + 1.25*cos(q2) - 0.054*cos(q2 + q3) + 0.75],\n",
              "[                                                                                                                                                            0,                                                                                                                                                             0,                                                                                        0,                                                                                                                                                                                                              1]])"
            ]
          },
          "execution_count": 18,
          "metadata": {},
          "output_type": "execute_result"
        }
      ],
      "source": [
        "T0_G"
      ]
    },
    {
      "cell_type": "code",
      "execution_count": 19,
      "metadata": {
        "id": "CUuqXlKw_ZNE"
      },
      "outputs": [],
      "source": [
        "T_total = simplify(T0_G * R_corr)"
      ]
    },
    {
      "cell_type": "code",
      "execution_count": 20,
      "metadata": {
        "colab": {
          "base_uri": "https://localhost:8080/",
          "height": 98
        },
        "id": "m30s3PI68Ifs",
        "outputId": "4f68e45f-585d-4545-b238-e299f762348d"
      },
      "outputs": [
        {
          "data": {
            "text/latex": [
              "$\\displaystyle \\left[\\begin{matrix}1.0 & 0 & 6.12323399573677 \\cdot 10^{-17} & 2.153\\\\-7.49879891330929 \\cdot 10^{-33} & 1.0 & 1.22464679914735 \\cdot 10^{-16} & 0\\\\-6.12323399573677 \\cdot 10^{-17} & -1.22464679914735 \\cdot 10^{-16} & 1.0 & 1.946\\\\0 & 0 & 0 & 1.0\\end{matrix}\\right]$"
            ],
            "text/plain": [
              "Matrix([\n",
              "[                  1.0,                     0, 6.12323399573677e-17, 2.153],\n",
              "[-7.49879891330929e-33,                   1.0, 1.22464679914735e-16,     0],\n",
              "[-6.12323399573677e-17, -1.22464679914735e-16,                  1.0, 1.946],\n",
              "[                    0,                     0,                    0,   1.0]])"
            ]
          },
          "execution_count": 20,
          "metadata": {},
          "output_type": "execute_result"
        }
      ],
      "source": [
        "Origin_Pose = {q1:0, q2:0, q3:0, q4:0, q5:0, q6:0, q7:0}\n",
        "Origin_Matrix = T_total.subs(Origin_Pose)\n",
        "Origin_Matrix"
      ]
    },
    {
      "cell_type": "code",
      "execution_count": 21,
      "metadata": {
        "colab": {
          "base_uri": "https://localhost:8080/",
          "height": 98
        },
        "id": "FNsmJ10z8hnP",
        "outputId": "7198b5e8-32a2-462f-aa80-d135e2ed196b"
      },
      "outputs": [
        {
          "data": {
            "text/latex": [
              "$\\displaystyle \\left[\\begin{matrix}0 & 0 & 1 & 2.153\\\\0 & -1 & 0 & 0\\\\1 & 0 & 0 & 1.946\\\\0 & 0 & 0 & 1\\end{matrix}\\right]$"
            ],
            "text/plain": [
              "Matrix([\n",
              "[0,  0, 1, 2.153],\n",
              "[0, -1, 0,     0],\n",
              "[1,  0, 0, 1.946],\n",
              "[0,  0, 0,     1]])"
            ]
          },
          "execution_count": 21,
          "metadata": {},
          "output_type": "execute_result"
        }
      ],
      "source": [
        "Origin_Pose = {q1:0, q2:0, q3:0, q4:0, q5:0, q6:0, q7:0}\n",
        "Origin_Matrix = T0_G.subs(Origin_Pose)\n",
        "Origin_Matrix"
      ]
    },
    {
      "cell_type": "code",
      "execution_count": 22,
      "metadata": {
        "colab": {
          "base_uri": "https://localhost:8080/",
          "height": 98
        },
        "id": "SUuI08AsC2W2",
        "outputId": "a09a58db-a7f9-401f-a20c-6c6c20b43964"
      },
      "outputs": [
        {
          "data": {
            "text/latex": [
              "$\\displaystyle \\left[\\begin{matrix}0.1356618670489 & 0.820447998868102 & -0.555392598962332 & 0.528022602556079\\\\0.590392455018793 & -0.517118815799423 & -0.619697409550084 & 2.34821238060766\\\\-0.795633462648278 & -0.243830292415708 & -0.554539612304461 & -0.204353032317026\\\\0 & 0 & 0 & 1.0\\end{matrix}\\right]$"
            ],
            "text/plain": [
              "Matrix([\n",
              "[   0.1356618670489,  0.820447998868102, -0.555392598962332,  0.528022602556079],\n",
              "[ 0.590392455018793, -0.517118815799423, -0.619697409550084,   2.34821238060766],\n",
              "[-0.795633462648278, -0.243830292415708, -0.554539612304461, -0.204353032317026],\n",
              "[                 0,                  0,                  0,                1.0]])"
            ]
          },
          "execution_count": 22,
          "metadata": {},
          "output_type": "execute_result"
        }
      ],
      "source": [
        "Origin_Pose = {q1:1.35, q2:1.09, q3:-0.09, q4:3.18, q5:0.08, q6:0.38, q7:0}\n",
        "Origin_Matrix = T_total.subs(Origin_Pose)\n",
        "Origin_Matrix"
      ]
    },
    {
      "cell_type": "code",
      "execution_count": null,
      "metadata": {
        "id": "OlYLMvqvHRwX"
      },
      "outputs": [],
      "source": []
    },
    {
      "cell_type": "code",
      "execution_count": null,
      "metadata": {},
      "outputs": [],
      "source": []
    }
  ],
  "metadata": {
    "colab": {
      "provenance": []
    },
    "kernelspec": {
      "display_name": "Python 3",
      "name": "python3"
    },
    "language_info": {
      "codemirror_mode": {
        "name": "ipython",
        "version": 3
      },
      "file_extension": ".py",
      "mimetype": "text/x-python",
      "name": "python",
      "nbconvert_exporter": "python",
      "pygments_lexer": "ipython3",
      "version": "3.12.2"
    }
  },
  "nbformat": 4,
  "nbformat_minor": 0
}
